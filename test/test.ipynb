{
 "cells": [
  {
   "cell_type": "code",
   "execution_count": 15,
   "metadata": {},
   "outputs": [],
   "source": [
    "from PIL import Image\n",
    "import matplotlib.pyplot as plt\n",
    "import pydicom\n",
    "from pydicom.data import get_testdata_files\n",
    "import numpy as np\n",
    "import cv2"
   ]
  },
  {
   "cell_type": "code",
   "execution_count": 19,
   "metadata": {},
   "outputs": [],
   "source": [
    "plt.figure()\n",
    "filename = get_testdata_files(\"../image/imgs/cp600.dcm\")\n",
    "ds = pydicom.dcmread(\"../image/imgs/cp600.dcm\")\n",
    "image = plt.imshow(ds.pixel_array, cmap=plt.cm.bone) \n",
    "# image._A\n",
    "fig = plt.gcf()\n",
    "fig.canvas.draw()\n",
    "img_arr = np.frombuffer(fig.canvas.tostring_rgb(), dtype=np.uint8)\n",
    "# img = img.reshape(fig.canvas.get_width_height()[::-1] + (3,))\n",
    "img_arr = cv2.cvtColor(img_arr, cv2.COLOR_RGB2BGR)\n",
    "plt.close()"
   ]
  },
  {
   "cell_type": "code",
   "execution_count": 20,
   "metadata": {},
   "outputs": [
    {
     "data": {
      "text/plain": [
       "array([[[255, 255, 255]],\n",
       "\n",
       "       [[255, 255, 255]],\n",
       "\n",
       "       [[255, 255, 255]],\n",
       "\n",
       "       ...,\n",
       "\n",
       "       [[255, 255, 255]],\n",
       "\n",
       "       [[255, 255, 255]],\n",
       "\n",
       "       [[255, 255, 255]]], dtype=uint8)"
      ]
     },
     "execution_count": 20,
     "metadata": {},
     "output_type": "execute_result"
    }
   ],
   "source": []
  },
  {
   "cell_type": "code",
   "execution_count": null,
   "metadata": {},
   "outputs": [],
   "source": []
  }
 ],
 "metadata": {
  "kernelspec": {
   "display_name": "Python 3.8.10 ('pct')",
   "language": "python",
   "name": "python3"
  },
  "language_info": {
   "codemirror_mode": {
    "name": "ipython",
    "version": 3
   },
   "file_extension": ".py",
   "mimetype": "text/x-python",
   "name": "python",
   "nbconvert_exporter": "python",
   "pygments_lexer": "ipython3",
   "version": "3.8.10"
  },
  "orig_nbformat": 4,
  "vscode": {
   "interpreter": {
    "hash": "5531f21dd00092f5c0317ca2303f1466f3e721433f553dd66b3a4a7cf00a0364"
   }
  }
 },
 "nbformat": 4,
 "nbformat_minor": 2
}
